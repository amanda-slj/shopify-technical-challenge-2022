{
  "cells": [
    {
      "cell_type": "markdown",
      "metadata": {},
      "source": [
        "# Summer 2022 Data Science Intern Challenge "
      ]
    },
    {
      "cell_type": "markdown",
      "metadata": {
        "id": "hQIQHhg6Fj57"
      },
      "source": [
        "## Q1\n",
        "On Shopify, we have exactly 100 sneaker shops, and each of these shops sells only one model of shoe. We want to do some analysis of the average order value (AOV). When we look at orders data over a 30 day window, we naively calculate an AOV of $3145.13. Given that we know these shops are selling sneakers, a relatively affordable item, something seems wrong with our analysis."
      ]
    },
    {
      "cell_type": "code",
      "execution_count": 44,
      "metadata": {
        "colab": {
          "base_uri": "https://localhost:8080/"
        },
        "id": "PyUaeG4RF4zE",
        "outputId": "22990189-4ded-4c92-efe8-f405c31173ac"
      },
      "outputs": [],
      "source": [
        "# import needed packages for dataset analysis\n",
        "import pandas as pd\n",
        "import numpy as np\n",
        "import seaborn as sns\n",
        "import matplotlib.pyplot as plt\n",
        "\n",
        "%matplotlib inline"
      ]
    },
    {
      "cell_type": "code",
      "execution_count": 45,
      "metadata": {
        "id": "8ZsmLnS5GCVt"
      },
      "outputs": [
        {
          "data": {
            "text/html": [
              "<div>\n",
              "<style scoped>\n",
              "    .dataframe tbody tr th:only-of-type {\n",
              "        vertical-align: middle;\n",
              "    }\n",
              "\n",
              "    .dataframe tbody tr th {\n",
              "        vertical-align: top;\n",
              "    }\n",
              "\n",
              "    .dataframe thead th {\n",
              "        text-align: right;\n",
              "    }\n",
              "</style>\n",
              "<table border=\"1\" class=\"dataframe\">\n",
              "  <thead>\n",
              "    <tr style=\"text-align: right;\">\n",
              "      <th></th>\n",
              "      <th>order_id</th>\n",
              "      <th>shop_id</th>\n",
              "      <th>user_id</th>\n",
              "      <th>order_amount</th>\n",
              "      <th>total_items</th>\n",
              "      <th>payment_method</th>\n",
              "      <th>created_at</th>\n",
              "    </tr>\n",
              "  </thead>\n",
              "  <tbody>\n",
              "    <tr>\n",
              "      <th>0</th>\n",
              "      <td>1.0</td>\n",
              "      <td>53.0</td>\n",
              "      <td>746.0</td>\n",
              "      <td>224.0</td>\n",
              "      <td>2.0</td>\n",
              "      <td>cash</td>\n",
              "      <td>2017-03-13 12:36:56.190</td>\n",
              "    </tr>\n",
              "    <tr>\n",
              "      <th>1</th>\n",
              "      <td>2.0</td>\n",
              "      <td>92.0</td>\n",
              "      <td>925.0</td>\n",
              "      <td>90.0</td>\n",
              "      <td>1.0</td>\n",
              "      <td>cash</td>\n",
              "      <td>2017-03-03 17:38:51.999</td>\n",
              "    </tr>\n",
              "    <tr>\n",
              "      <th>2</th>\n",
              "      <td>3.0</td>\n",
              "      <td>44.0</td>\n",
              "      <td>861.0</td>\n",
              "      <td>144.0</td>\n",
              "      <td>1.0</td>\n",
              "      <td>cash</td>\n",
              "      <td>2017-03-14 04:23:55.595</td>\n",
              "    </tr>\n",
              "    <tr>\n",
              "      <th>3</th>\n",
              "      <td>4.0</td>\n",
              "      <td>18.0</td>\n",
              "      <td>935.0</td>\n",
              "      <td>156.0</td>\n",
              "      <td>1.0</td>\n",
              "      <td>credit_card</td>\n",
              "      <td>2017-03-26 12:43:36.649</td>\n",
              "    </tr>\n",
              "    <tr>\n",
              "      <th>4</th>\n",
              "      <td>5.0</td>\n",
              "      <td>18.0</td>\n",
              "      <td>883.0</td>\n",
              "      <td>156.0</td>\n",
              "      <td>1.0</td>\n",
              "      <td>credit_card</td>\n",
              "      <td>2017-03-01 04:35:10.773</td>\n",
              "    </tr>\n",
              "  </tbody>\n",
              "</table>\n",
              "</div>"
            ],
            "text/plain": [
              "   order_id  shop_id  user_id  order_amount  total_items payment_method  \\\n",
              "0       1.0     53.0    746.0         224.0          2.0           cash   \n",
              "1       2.0     92.0    925.0          90.0          1.0           cash   \n",
              "2       3.0     44.0    861.0         144.0          1.0           cash   \n",
              "3       4.0     18.0    935.0         156.0          1.0    credit_card   \n",
              "4       5.0     18.0    883.0         156.0          1.0    credit_card   \n",
              "\n",
              "               created_at  \n",
              "0 2017-03-13 12:36:56.190  \n",
              "1 2017-03-03 17:38:51.999  \n",
              "2 2017-03-14 04:23:55.595  \n",
              "3 2017-03-26 12:43:36.649  \n",
              "4 2017-03-01 04:35:10.773  "
            ]
          },
          "execution_count": 45,
          "metadata": {},
          "output_type": "execute_result"
        }
      ],
      "source": [
        "# import given dataset\n",
        "df = pd.read_excel('2019 Winter Data Science Intern Challenge Data Set.xlsx')\n",
        "df.head()"
      ]
    },
    {
      "cell_type": "code",
      "execution_count": 46,
      "metadata": {},
      "outputs": [
        {
          "data": {
            "text/html": [
              "<div>\n",
              "<style scoped>\n",
              "    .dataframe tbody tr th:only-of-type {\n",
              "        vertical-align: middle;\n",
              "    }\n",
              "\n",
              "    .dataframe tbody tr th {\n",
              "        vertical-align: top;\n",
              "    }\n",
              "\n",
              "    .dataframe thead th {\n",
              "        text-align: right;\n",
              "    }\n",
              "</style>\n",
              "<table border=\"1\" class=\"dataframe\">\n",
              "  <thead>\n",
              "    <tr style=\"text-align: right;\">\n",
              "      <th></th>\n",
              "      <th>order_id</th>\n",
              "      <th>shop_id</th>\n",
              "      <th>user_id</th>\n",
              "      <th>order_amount</th>\n",
              "      <th>total_items</th>\n",
              "    </tr>\n",
              "  </thead>\n",
              "  <tbody>\n",
              "    <tr>\n",
              "      <th>count</th>\n",
              "      <td>5000.000000</td>\n",
              "      <td>5000.000000</td>\n",
              "      <td>5000.000000</td>\n",
              "      <td>5000.000000</td>\n",
              "      <td>5000.00000</td>\n",
              "    </tr>\n",
              "    <tr>\n",
              "      <th>mean</th>\n",
              "      <td>2500.500000</td>\n",
              "      <td>50.078800</td>\n",
              "      <td>849.092400</td>\n",
              "      <td>3145.128000</td>\n",
              "      <td>8.78720</td>\n",
              "    </tr>\n",
              "    <tr>\n",
              "      <th>std</th>\n",
              "      <td>1443.520003</td>\n",
              "      <td>29.006118</td>\n",
              "      <td>87.798982</td>\n",
              "      <td>41282.539349</td>\n",
              "      <td>116.32032</td>\n",
              "    </tr>\n",
              "    <tr>\n",
              "      <th>min</th>\n",
              "      <td>1.000000</td>\n",
              "      <td>1.000000</td>\n",
              "      <td>607.000000</td>\n",
              "      <td>90.000000</td>\n",
              "      <td>1.00000</td>\n",
              "    </tr>\n",
              "    <tr>\n",
              "      <th>25%</th>\n",
              "      <td>1250.750000</td>\n",
              "      <td>24.000000</td>\n",
              "      <td>775.000000</td>\n",
              "      <td>163.000000</td>\n",
              "      <td>1.00000</td>\n",
              "    </tr>\n",
              "    <tr>\n",
              "      <th>50%</th>\n",
              "      <td>2500.500000</td>\n",
              "      <td>50.000000</td>\n",
              "      <td>849.000000</td>\n",
              "      <td>284.000000</td>\n",
              "      <td>2.00000</td>\n",
              "    </tr>\n",
              "    <tr>\n",
              "      <th>75%</th>\n",
              "      <td>3750.250000</td>\n",
              "      <td>75.000000</td>\n",
              "      <td>925.000000</td>\n",
              "      <td>390.000000</td>\n",
              "      <td>3.00000</td>\n",
              "    </tr>\n",
              "    <tr>\n",
              "      <th>max</th>\n",
              "      <td>5000.000000</td>\n",
              "      <td>100.000000</td>\n",
              "      <td>999.000000</td>\n",
              "      <td>704000.000000</td>\n",
              "      <td>2000.00000</td>\n",
              "    </tr>\n",
              "  </tbody>\n",
              "</table>\n",
              "</div>"
            ],
            "text/plain": [
              "          order_id      shop_id      user_id   order_amount  total_items\n",
              "count  5000.000000  5000.000000  5000.000000    5000.000000   5000.00000\n",
              "mean   2500.500000    50.078800   849.092400    3145.128000      8.78720\n",
              "std    1443.520003    29.006118    87.798982   41282.539349    116.32032\n",
              "min       1.000000     1.000000   607.000000      90.000000      1.00000\n",
              "25%    1250.750000    24.000000   775.000000     163.000000      1.00000\n",
              "50%    2500.500000    50.000000   849.000000     284.000000      2.00000\n",
              "75%    3750.250000    75.000000   925.000000     390.000000      3.00000\n",
              "max    5000.000000   100.000000   999.000000  704000.000000   2000.00000"
            ]
          },
          "execution_count": 46,
          "metadata": {},
          "output_type": "execute_result"
        }
      ],
      "source": [
        "df.describe()"
      ]
    },
    {
      "cell_type": "markdown",
      "metadata": {
        "id": "5Tij5ybHFx2X"
      },
      "source": [
        "### 1) Think about what could be going wrong with our calculation. Think about a better way to evaluate this data. "
      ]
    },
    {
      "cell_type": "markdown",
      "metadata": {},
      "source": [
        "Based on the description of the dataset, there is no null value in this dataset.\n",
        "\n",
        "The \"order_amount\" and \"total_items\" categories have a skewed data distribution, each having a high maximum value of 704000 and 2000 respectively. \n",
        "\n",
        "The \"order_amount\" mean (AOV) has a value of 3145.128 and the standard deviation was calculated to be 41282.54, which shows that using the mean value alone would not be a useful metric as the higher mean is a result of the long tailed distribution."
      ]
    },
    {
      "cell_type": "markdown",
      "metadata": {},
      "source": [
        "We can use a quick boxplot visualization to look at the outliers and filter for these data points for further analysis."
      ]
    },
    {
      "cell_type": "code",
      "execution_count": 47,
      "metadata": {},
      "outputs": [
        {
          "data": {
            "text/plain": [
              "<bound method Figure.show of <Figure size 432x288 with 2 Axes>>"
            ]
          },
          "execution_count": 47,
          "metadata": {},
          "output_type": "execute_result"
        },
        {
          "data": {
            "image/png": "[encoded data removed]",
            "text/plain": [
              "<Figure size 432x288 with 2 Axes>"
            ]
          },
          "metadata": {
            "needs_background": "light"
          },
          "output_type": "display_data"
        }
      ],
      "source": [
        "# Demonstrate data distribution through boxplot\n",
        "fig, axes = plt.subplots(1, 2)\n",
        "sns.boxplot(data=df['order_amount'], orient='v', ax= axes[0])\n",
        "axes[0].set_title('order_amount')\n",
        "\n",
        "sns.boxplot(data=df['total_items'], orient='v', ax= axes[1])\n",
        "axes[1].set_title('total_items')\n",
        "\n",
        "fig.show"
      ]
    },
    {
      "cell_type": "markdown",
      "metadata": {},
      "source": [
        "We can see some obvious outliers from the boxplot visualization above, we can filter for these data points for further analysis by taking points above the upper bound."
      ]
    },
    {
      "cell_type": "code",
      "execution_count": 49,
      "metadata": {},
      "outputs": [
        {
          "name": "stdout",
          "output_type": "stream",
          "text": [
            "order_amount: iqr=227.0, upper bound=730.5, lower bound=-177.5\n",
            "total_items: iqr=2.0, upper bound=6.0, lower bound=-2.0\n"
          ]
        }
      ],
      "source": [
        "# 1st quartile = 25% value\n",
        "q1_order_amount = 163.000\n",
        "q1_total_items = 1.000\n",
        " \n",
        "# 3rd quartile b= 75%\n",
        "q3_order_amount = 390.000\n",
        "q3_total_items = 3.000\n",
        "\n",
        "# find iqr region\n",
        "iqr_order_amount = q3_order_amount - q1_order_amount\n",
        "iqr_total_items = q3_total_items - q1_total_items\n",
        " \n",
        "# find upper and lower bound\n",
        "upper_order_amount = q3_order_amount + (1.5* iqr_order_amount)\n",
        "lower_order_amount = q1_order_amount - (1.5* iqr_order_amount)\n",
        "\n",
        "upper_total_items = q3_total_items + (1.5 * iqr_total_items)\n",
        "lower_total_items = q1_total_items - (1.5 * iqr_total_items)\n",
        "\n",
        "print(f'order_amount: iqr={iqr_order_amount}, upper bound={upper_order_amount}, lower bound={lower_order_amount}')\n",
        "print(f'total_items: iqr={iqr_total_items}, upper bound={upper_total_items}, lower bound={lower_total_items}')"
      ]
    },
    {
      "cell_type": "markdown",
      "metadata": {},
      "source": [
        "After finding the upper bound of the interquantile range we can filter for values above it for the order_amount (730.5) and total_items (6.0) to get the outliers."
      ]
    },
    {
      "cell_type": "code",
      "execution_count": 50,
      "metadata": {},
      "outputs": [
        {
          "name": "stdout",
          "output_type": "stream",
          "text": [
            "number of order_amount outlier above upper bound = 141\n"
          ]
        },
        {
          "data": {
            "text/plain": [
              "704000.0    17\n",
              "154350.0     1\n",
              "102900.0     1\n",
              "77175.0      9\n",
              "51450.0     16\n",
              "25725.0     19\n",
              "1760.0       1\n",
              "1408.0       2\n",
              "1086.0       1\n",
              "1064.0       1\n",
              "Name: order_amount, dtype: int64"
            ]
          },
          "execution_count": 50,
          "metadata": {},
          "output_type": "execute_result"
        }
      ],
      "source": [
        "# order_amount outliers\n",
        "order_amount_outlier = df[df['order_amount'] > 730.5]\n",
        "print('number of order_amount outlier above upper bound =', order_amount_outlier ['order_amount'].count())\n",
        "\n",
        "order_amount_outlier_count = order_amount_outlier['order_amount'].value_counts()\n",
        "order_amount_outlier_count.sort_index(ascending=False).head(10)"
      ]
    },
    {
      "cell_type": "code",
      "execution_count": 51,
      "metadata": {},
      "outputs": [
        {
          "name": "stdout",
          "output_type": "stream",
          "text": [
            "number of total_items outlier above upper bound = 18\n"
          ]
        },
        {
          "data": {
            "text/plain": [
              "2000.0    17\n",
              "8.0        1\n",
              "Name: total_items, dtype: int64"
            ]
          },
          "execution_count": 51,
          "metadata": {},
          "output_type": "execute_result"
        }
      ],
      "source": [
        "# total_items outliers\n",
        "total_items_outlier = df[df['total_items'] > 6.0]\n",
        "print('number of total_items outlier above upper bound =', total_items_outlier ['total_items'].count())\n",
        "\n",
        "total_items_outlier_count = total_items_outlier['total_items'].value_counts()\n",
        "total_items_outlier_count.sort_index(ascending=False).head()"
      ]
    },
    {
      "cell_type": "markdown",
      "metadata": {},
      "source": [
        "There are an abnormally large number of orders with high order_amounts (e.g. 704000, 51450 and 25725) coming from multiple unique orders. This could either be from a reoccuring bulk order or potentially a scam. Similarly with total_items, majority of the outliers are for orders with 2000 items."
      ]
    },
    {
      "cell_type": "markdown",
      "metadata": {},
      "source": [
        "Taking a look at the orders with 2000 total_items."
      ]
    },
    {
      "cell_type": "code",
      "execution_count": 52,
      "metadata": {},
      "outputs": [
        {
          "data": {
            "text/html": [
              "<div>\n",
              "<style scoped>\n",
              "    .dataframe tbody tr th:only-of-type {\n",
              "        vertical-align: middle;\n",
              "    }\n",
              "\n",
              "    .dataframe tbody tr th {\n",
              "        vertical-align: top;\n",
              "    }\n",
              "\n",
              "    .dataframe thead th {\n",
              "        text-align: right;\n",
              "    }\n",
              "</style>\n",
              "<table border=\"1\" class=\"dataframe\">\n",
              "  <thead>\n",
              "    <tr style=\"text-align: right;\">\n",
              "      <th></th>\n",
              "      <th>order_id</th>\n",
              "      <th>shop_id</th>\n",
              "      <th>user_id</th>\n",
              "      <th>order_amount</th>\n",
              "      <th>total_items</th>\n",
              "      <th>payment_method</th>\n",
              "      <th>created_at</th>\n",
              "    </tr>\n",
              "  </thead>\n",
              "  <tbody>\n",
              "    <tr>\n",
              "      <th>520</th>\n",
              "      <td>521.0</td>\n",
              "      <td>42.0</td>\n",
              "      <td>607.0</td>\n",
              "      <td>704000.0</td>\n",
              "      <td>2000.0</td>\n",
              "      <td>credit_card</td>\n",
              "      <td>2017-03-02 04:00:00</td>\n",
              "    </tr>\n",
              "    <tr>\n",
              "      <th>4646</th>\n",
              "      <td>4647.0</td>\n",
              "      <td>42.0</td>\n",
              "      <td>607.0</td>\n",
              "      <td>704000.0</td>\n",
              "      <td>2000.0</td>\n",
              "      <td>credit_card</td>\n",
              "      <td>2017-03-02 04:00:00</td>\n",
              "    </tr>\n",
              "    <tr>\n",
              "      <th>60</th>\n",
              "      <td>61.0</td>\n",
              "      <td>42.0</td>\n",
              "      <td>607.0</td>\n",
              "      <td>704000.0</td>\n",
              "      <td>2000.0</td>\n",
              "      <td>credit_card</td>\n",
              "      <td>2017-03-04 04:00:00</td>\n",
              "    </tr>\n",
              "    <tr>\n",
              "      <th>15</th>\n",
              "      <td>16.0</td>\n",
              "      <td>42.0</td>\n",
              "      <td>607.0</td>\n",
              "      <td>704000.0</td>\n",
              "      <td>2000.0</td>\n",
              "      <td>credit_card</td>\n",
              "      <td>2017-03-07 04:00:00</td>\n",
              "    </tr>\n",
              "    <tr>\n",
              "      <th>2297</th>\n",
              "      <td>2298.0</td>\n",
              "      <td>42.0</td>\n",
              "      <td>607.0</td>\n",
              "      <td>704000.0</td>\n",
              "      <td>2000.0</td>\n",
              "      <td>credit_card</td>\n",
              "      <td>2017-03-07 04:00:00</td>\n",
              "    </tr>\n",
              "    <tr>\n",
              "      <th>1436</th>\n",
              "      <td>1437.0</td>\n",
              "      <td>42.0</td>\n",
              "      <td>607.0</td>\n",
              "      <td>704000.0</td>\n",
              "      <td>2000.0</td>\n",
              "      <td>credit_card</td>\n",
              "      <td>2017-03-11 04:00:00</td>\n",
              "    </tr>\n",
              "    <tr>\n",
              "      <th>2153</th>\n",
              "      <td>2154.0</td>\n",
              "      <td>42.0</td>\n",
              "      <td>607.0</td>\n",
              "      <td>704000.0</td>\n",
              "      <td>2000.0</td>\n",
              "      <td>credit_card</td>\n",
              "      <td>2017-03-12 04:00:00</td>\n",
              "    </tr>\n",
              "    <tr>\n",
              "      <th>1362</th>\n",
              "      <td>1363.0</td>\n",
              "      <td>42.0</td>\n",
              "      <td>607.0</td>\n",
              "      <td>704000.0</td>\n",
              "      <td>2000.0</td>\n",
              "      <td>credit_card</td>\n",
              "      <td>2017-03-15 04:00:00</td>\n",
              "    </tr>\n",
              "    <tr>\n",
              "      <th>1602</th>\n",
              "      <td>1603.0</td>\n",
              "      <td>42.0</td>\n",
              "      <td>607.0</td>\n",
              "      <td>704000.0</td>\n",
              "      <td>2000.0</td>\n",
              "      <td>credit_card</td>\n",
              "      <td>2017-03-17 04:00:00</td>\n",
              "    </tr>\n",
              "    <tr>\n",
              "      <th>1562</th>\n",
              "      <td>1563.0</td>\n",
              "      <td>42.0</td>\n",
              "      <td>607.0</td>\n",
              "      <td>704000.0</td>\n",
              "      <td>2000.0</td>\n",
              "      <td>credit_card</td>\n",
              "      <td>2017-03-19 04:00:00</td>\n",
              "    </tr>\n",
              "    <tr>\n",
              "      <th>4868</th>\n",
              "      <td>4869.0</td>\n",
              "      <td>42.0</td>\n",
              "      <td>607.0</td>\n",
              "      <td>704000.0</td>\n",
              "      <td>2000.0</td>\n",
              "      <td>credit_card</td>\n",
              "      <td>2017-03-22 04:00:00</td>\n",
              "    </tr>\n",
              "    <tr>\n",
              "      <th>3332</th>\n",
              "      <td>3333.0</td>\n",
              "      <td>42.0</td>\n",
              "      <td>607.0</td>\n",
              "      <td>704000.0</td>\n",
              "      <td>2000.0</td>\n",
              "      <td>credit_card</td>\n",
              "      <td>2017-03-24 04:00:00</td>\n",
              "    </tr>\n",
              "    <tr>\n",
              "      <th>1104</th>\n",
              "      <td>1105.0</td>\n",
              "      <td>42.0</td>\n",
              "      <td>607.0</td>\n",
              "      <td>704000.0</td>\n",
              "      <td>2000.0</td>\n",
              "      <td>credit_card</td>\n",
              "      <td>2017-03-24 04:00:00</td>\n",
              "    </tr>\n",
              "    <tr>\n",
              "      <th>4882</th>\n",
              "      <td>4883.0</td>\n",
              "      <td>42.0</td>\n",
              "      <td>607.0</td>\n",
              "      <td>704000.0</td>\n",
              "      <td>2000.0</td>\n",
              "      <td>credit_card</td>\n",
              "      <td>2017-03-25 04:00:00</td>\n",
              "    </tr>\n",
              "    <tr>\n",
              "      <th>2835</th>\n",
              "      <td>2836.0</td>\n",
              "      <td>42.0</td>\n",
              "      <td>607.0</td>\n",
              "      <td>704000.0</td>\n",
              "      <td>2000.0</td>\n",
              "      <td>credit_card</td>\n",
              "      <td>2017-03-28 04:00:00</td>\n",
              "    </tr>\n",
              "    <tr>\n",
              "      <th>2969</th>\n",
              "      <td>2970.0</td>\n",
              "      <td>42.0</td>\n",
              "      <td>607.0</td>\n",
              "      <td>704000.0</td>\n",
              "      <td>2000.0</td>\n",
              "      <td>credit_card</td>\n",
              "      <td>2017-03-28 04:00:00</td>\n",
              "    </tr>\n",
              "    <tr>\n",
              "      <th>4056</th>\n",
              "      <td>4057.0</td>\n",
              "      <td>42.0</td>\n",
              "      <td>607.0</td>\n",
              "      <td>704000.0</td>\n",
              "      <td>2000.0</td>\n",
              "      <td>credit_card</td>\n",
              "      <td>2017-03-28 04:00:00</td>\n",
              "    </tr>\n",
              "  </tbody>\n",
              "</table>\n",
              "</div>"
            ],
            "text/plain": [
              "      order_id  shop_id  user_id  order_amount  total_items payment_method  \\\n",
              "520      521.0     42.0    607.0      704000.0       2000.0    credit_card   \n",
              "4646    4647.0     42.0    607.0      704000.0       2000.0    credit_card   \n",
              "60        61.0     42.0    607.0      704000.0       2000.0    credit_card   \n",
              "15        16.0     42.0    607.0      704000.0       2000.0    credit_card   \n",
              "2297    2298.0     42.0    607.0      704000.0       2000.0    credit_card   \n",
              "1436    1437.0     42.0    607.0      704000.0       2000.0    credit_card   \n",
              "2153    2154.0     42.0    607.0      704000.0       2000.0    credit_card   \n",
              "1362    1363.0     42.0    607.0      704000.0       2000.0    credit_card   \n",
              "1602    1603.0     42.0    607.0      704000.0       2000.0    credit_card   \n",
              "1562    1563.0     42.0    607.0      704000.0       2000.0    credit_card   \n",
              "4868    4869.0     42.0    607.0      704000.0       2000.0    credit_card   \n",
              "3332    3333.0     42.0    607.0      704000.0       2000.0    credit_card   \n",
              "1104    1105.0     42.0    607.0      704000.0       2000.0    credit_card   \n",
              "4882    4883.0     42.0    607.0      704000.0       2000.0    credit_card   \n",
              "2835    2836.0     42.0    607.0      704000.0       2000.0    credit_card   \n",
              "2969    2970.0     42.0    607.0      704000.0       2000.0    credit_card   \n",
              "4056    4057.0     42.0    607.0      704000.0       2000.0    credit_card   \n",
              "\n",
              "              created_at  \n",
              "520  2017-03-02 04:00:00  \n",
              "4646 2017-03-02 04:00:00  \n",
              "60   2017-03-04 04:00:00  \n",
              "15   2017-03-07 04:00:00  \n",
              "2297 2017-03-07 04:00:00  \n",
              "1436 2017-03-11 04:00:00  \n",
              "2153 2017-03-12 04:00:00  \n",
              "1362 2017-03-15 04:00:00  \n",
              "1602 2017-03-17 04:00:00  \n",
              "1562 2017-03-19 04:00:00  \n",
              "4868 2017-03-22 04:00:00  \n",
              "3332 2017-03-24 04:00:00  \n",
              "1104 2017-03-24 04:00:00  \n",
              "4882 2017-03-25 04:00:00  \n",
              "2835 2017-03-28 04:00:00  \n",
              "2969 2017-03-28 04:00:00  \n",
              "4056 2017-03-28 04:00:00  "
            ]
          },
          "execution_count": 52,
          "metadata": {},
          "output_type": "execute_result"
        }
      ],
      "source": [
        "total_items_outlier[total_items_outlier['total_items'] == 2000].sort_values('created_at')"
      ]
    },
    {
      "cell_type": "markdown",
      "metadata": {},
      "source": [
        "All of the transactions with 2000 total_items are associated with one user and within a span of one month, with multiple duplicate purchases. The total transaction was almost 12 million, this is very suspicious and should be monitored for potential scam."
      ]
    },
    {
      "cell_type": "markdown",
      "metadata": {},
      "source": [
        "Finally taking a look at the average cost per shoe for these high transactions order amounts."
      ]
    },
    {
      "cell_type": "code",
      "execution_count": 53,
      "metadata": {},
      "outputs": [
        {
          "data": {
            "text/plain": [
              "25725.0    46\n",
              "352.0      23\n",
              "187.0       8\n",
              "156.0       5\n",
              "153.0       5\n",
              "dtype: int64"
            ]
          },
          "execution_count": 53,
          "metadata": {},
          "output_type": "execute_result"
        }
      ],
      "source": [
        "(order_amount_outlier['order_amount']/order_amount_outlier['total_items']).value_counts().nlargest(5)"
      ]
    },
    {
      "cell_type": "markdown",
      "metadata": {},
      "source": [
        "We can see that there are 46 unique orders which all have items being sold for 25725, this is concerning and should be flagged since retails shoes are not normally sold at this price."
      ]
    },
    {
      "cell_type": "markdown",
      "metadata": {},
      "source": [
        "#### Conclusion:\n",
        "Analyzing the outliers for order_amount and total_items revealed certain abnormal orders, some of which were selling at extremely high prices, or a single shop selling massive orders frequently to a single user. These are signs of potential fraudulent transactions and should warrant further investigation."
      ]
    },
    {
      "cell_type": "markdown",
      "metadata": {
        "id": "HhXWfEmuF1uq"
      },
      "source": [
        "### 2) What metric would you report for this dataset?"
      ]
    },
    {
      "cell_type": "markdown",
      "metadata": {},
      "source": [
        "Since the mean of the order_amount is highly effected by the skewness of the data, the median would be a better data evaluation metric since it relies on the middle value of an ordered sequence, which is more robust to outliers."
      ]
    },
    {
      "cell_type": "markdown",
      "metadata": {
        "id": "SHezxJgJF29q"
      },
      "source": [
        "### 3) What is its value?"
      ]
    },
    {
      "cell_type": "code",
      "execution_count": 114,
      "metadata": {
        "id": "SxDqh79aFbSk"
      },
      "outputs": [
        {
          "data": {
            "text/plain": [
              "284.0"
            ]
          },
          "execution_count": 114,
          "metadata": {},
          "output_type": "execute_result"
        }
      ],
      "source": [
        "# find the median value of the order_amount\n",
        "df['order_amount'].median()"
      ]
    },
    {
      "cell_type": "markdown",
      "metadata": {},
      "source": [
        "Therefore the median value of order_amount is 284 which is more reasonable compared to the 3145.13 value originally calculated with the mean."
      ]
    },
    {
      "cell_type": "markdown",
      "metadata": {},
      "source": [
        "## Q2\n",
        "For this question you’ll need to use SQL. Please use queries to answer the following questions. Paste your queries along with your final numerical answers below."
      ]
    },
    {
      "cell_type": "markdown",
      "metadata": {},
      "source": [
        "### 1) How many orders were shipped by Speedy Express in total?"
      ]
    },
    {
      "cell_type": "markdown",
      "metadata": {},
      "source": [
        "#### SQL Query\n",
        "SELECT count (*)\n",
        "\n",
        "FROM Orders o\n",
        "\n",
        "JOIN Shippers s \n",
        "\n",
        "  ON s.ShipperName = \"Speedy Express\" \n",
        "\n",
        " AND o.ShipperID = s.ShipperID "
      ]
    },
    {
      "cell_type": "markdown",
      "metadata": {},
      "source": [
        "Answer: A total of **54** orders were shipped by Speedy Express."
      ]
    },
    {
      "cell_type": "markdown",
      "metadata": {},
      "source": [
        "### 2) What is the last name of the employee with the most orders?"
      ]
    },
    {
      "cell_type": "markdown",
      "metadata": {},
      "source": [
        "#### SQL Query\n",
        "SELECT e.LastName, count(o.OrderID)\n",
        "\n",
        "FROM Orders o\n",
        "\n",
        "JOIN Employees e ON e.EmployeeID = o.EmployeeID\n",
        "\n",
        "GROUP BY e.EmployeeID\n",
        "\n",
        "ORDER BY 2 DESC\n",
        "\n",
        "LIMIT 1"
      ]
    },
    {
      "cell_type": "markdown",
      "metadata": {},
      "source": [
        "Answer: The employee with the last name **Peacock** has the most orders with **40 total orders**."
      ]
    },
    {
      "cell_type": "markdown",
      "metadata": {},
      "source": [
        "### 3) What product was ordered the most by customers in Germany?"
      ]
    },
    {
      "cell_type": "markdown",
      "metadata": {},
      "source": [
        "#### SQL Query\n",
        "\n",
        "SELECT p.ProductName, SUM(od.Quantity)\n",
        "\n",
        "FROM OrderDetails od\n",
        "\n",
        "JOIN Products p ON od.ProductID = p.ProductID\n",
        "\n",
        "JOIN Orders o on od.OrderID = o.OrderID\n",
        "\n",
        "JOIN Customers c on c.CustomerID = o.CustomerID\n",
        "\n",
        "WHERE c.Country = 'Germany'\n",
        "\n",
        "GROUP BY p.ProductID\n",
        "\n",
        "ORDER BY 2 DESC\n",
        "\n",
        "LIMIT 1"
      ]
    },
    {
      "cell_type": "markdown",
      "metadata": {},
      "source": [
        "Answer: The product that was ordered the most by customers in Germany is **Boston Crab Meat** with a total order amount of **160**"
      ]
    }
  ],
  "metadata": {
    "colab": {
      "name": "Shopify Data Science Intern Challenge - Amanda.ipynb",
      "provenance": []
    },
    "kernelspec": {
      "display_name": "Python 3",
      "name": "python3"
    },
    "language_info": {
      "codemirror_mode": {
        "name": "ipython",
        "version": 3
      },
      "file_extension": ".py",
      "mimetype": "text/x-python",
      "name": "python",
      "nbconvert_exporter": "python",
      "pygments_lexer": "ipython3",
      "version": "3.9.7"
    }
  },
  "nbformat": 4,
  "nbformat_minor": 0
}
